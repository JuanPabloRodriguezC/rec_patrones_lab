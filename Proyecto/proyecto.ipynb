{
 "cells": [
  {
   "cell_type": "code",
   "execution_count": 2,
   "id": "cc049cf3-8354-42e5-9740-7713b7d4ebb6",
   "metadata": {},
   "outputs": [],
   "source": [
    "import pandas as pd\n",
    "import numpy as np\n",
    "import matplotlib.pyplot as plt\n",
    "import seaborn.objects as so"
   ]
  },
  {
   "cell_type": "markdown",
   "id": "92b1bcab-9e89-4269-a5d5-24051a3cdfc5",
   "metadata": {},
   "source": [
    "# Preprocesamiento de Datos"
   ]
  },
  {
   "cell_type": "code",
   "execution_count": 2,
   "id": "32a00ba2-7a95-4f24-9cf2-08f92aebffd0",
   "metadata": {},
   "outputs": [],
   "source": [
    "calidad_aire = pd.read_csv('CalidadAire.csv')"
   ]
  },
  {
   "cell_type": "markdown",
   "id": "a335b6c4-bf9d-4024-ab30-92ecc4a824d2",
   "metadata": {
    "jp-MarkdownHeadingCollapsed": true
   },
   "source": [
    "## Calidad de Aire"
   ]
  },
  {
   "cell_type": "code",
   "execution_count": 3,
   "id": "b8ec82a1-88e8-44c3-8392-967877be1b51",
   "metadata": {},
   "outputs": [
    {
     "data": {
      "text/html": [
       "<div>\n",
       "<style scoped>\n",
       "    .dataframe tbody tr th:only-of-type {\n",
       "        vertical-align: middle;\n",
       "    }\n",
       "\n",
       "    .dataframe tbody tr th {\n",
       "        vertical-align: top;\n",
       "    }\n",
       "\n",
       "    .dataframe thead th {\n",
       "        text-align: right;\n",
       "    }\n",
       "</style>\n",
       "<table border=\"1\" class=\"dataframe\">\n",
       "  <thead>\n",
       "    <tr style=\"text-align: right;\">\n",
       "      <th></th>\n",
       "      <th>Date</th>\n",
       "      <th>Time</th>\n",
       "      <th>CO(GT)</th>\n",
       "      <th>PT08.S1(CO)</th>\n",
       "      <th>NMHC(GT)</th>\n",
       "      <th>C6H6(GT)</th>\n",
       "      <th>PT08.S2(NMHC)</th>\n",
       "      <th>NOx(GT)</th>\n",
       "      <th>PT08.S3(NOx)</th>\n",
       "      <th>NO2(GT)</th>\n",
       "      <th>PT08.S4(NO2)</th>\n",
       "      <th>PT08.S5(O3)</th>\n",
       "      <th>T</th>\n",
       "      <th>RH</th>\n",
       "      <th>AH</th>\n",
       "      <th>Unnamed: 15</th>\n",
       "      <th>Unnamed: 16</th>\n",
       "    </tr>\n",
       "  </thead>\n",
       "  <tbody>\n",
       "    <tr>\n",
       "      <th>0</th>\n",
       "      <td>3/10/2004</td>\n",
       "      <td>18:00:00</td>\n",
       "      <td>2.6</td>\n",
       "      <td>1360.0</td>\n",
       "      <td>150.0</td>\n",
       "      <td>11.9</td>\n",
       "      <td>1046.0</td>\n",
       "      <td>166.0</td>\n",
       "      <td>1056.0</td>\n",
       "      <td>113.0</td>\n",
       "      <td>1692.0</td>\n",
       "      <td>1268.0</td>\n",
       "      <td>13.6</td>\n",
       "      <td>48.9</td>\n",
       "      <td>0.7578</td>\n",
       "      <td>NaN</td>\n",
       "      <td>NaN</td>\n",
       "    </tr>\n",
       "    <tr>\n",
       "      <th>1</th>\n",
       "      <td>3/10/2004</td>\n",
       "      <td>19:00:00</td>\n",
       "      <td>2.0</td>\n",
       "      <td>1292.0</td>\n",
       "      <td>112.0</td>\n",
       "      <td>9.4</td>\n",
       "      <td>955.0</td>\n",
       "      <td>103.0</td>\n",
       "      <td>1174.0</td>\n",
       "      <td>92.0</td>\n",
       "      <td>1559.0</td>\n",
       "      <td>972.0</td>\n",
       "      <td>13.3</td>\n",
       "      <td>47.7</td>\n",
       "      <td>0.7255</td>\n",
       "      <td>NaN</td>\n",
       "      <td>NaN</td>\n",
       "    </tr>\n",
       "    <tr>\n",
       "      <th>2</th>\n",
       "      <td>3/10/2004</td>\n",
       "      <td>20:00:00</td>\n",
       "      <td>2.2</td>\n",
       "      <td>1402.0</td>\n",
       "      <td>88.0</td>\n",
       "      <td>9.0</td>\n",
       "      <td>939.0</td>\n",
       "      <td>131.0</td>\n",
       "      <td>1140.0</td>\n",
       "      <td>114.0</td>\n",
       "      <td>1555.0</td>\n",
       "      <td>1074.0</td>\n",
       "      <td>11.9</td>\n",
       "      <td>54.0</td>\n",
       "      <td>0.7502</td>\n",
       "      <td>NaN</td>\n",
       "      <td>NaN</td>\n",
       "    </tr>\n",
       "    <tr>\n",
       "      <th>3</th>\n",
       "      <td>3/10/2004</td>\n",
       "      <td>21:00:00</td>\n",
       "      <td>2.2</td>\n",
       "      <td>1376.0</td>\n",
       "      <td>80.0</td>\n",
       "      <td>9.2</td>\n",
       "      <td>948.0</td>\n",
       "      <td>172.0</td>\n",
       "      <td>1092.0</td>\n",
       "      <td>122.0</td>\n",
       "      <td>1584.0</td>\n",
       "      <td>1203.0</td>\n",
       "      <td>11.0</td>\n",
       "      <td>60.0</td>\n",
       "      <td>0.7867</td>\n",
       "      <td>NaN</td>\n",
       "      <td>NaN</td>\n",
       "    </tr>\n",
       "    <tr>\n",
       "      <th>4</th>\n",
       "      <td>3/10/2004</td>\n",
       "      <td>22:00:00</td>\n",
       "      <td>1.6</td>\n",
       "      <td>1272.0</td>\n",
       "      <td>51.0</td>\n",
       "      <td>6.5</td>\n",
       "      <td>836.0</td>\n",
       "      <td>131.0</td>\n",
       "      <td>1205.0</td>\n",
       "      <td>116.0</td>\n",
       "      <td>1490.0</td>\n",
       "      <td>1110.0</td>\n",
       "      <td>11.2</td>\n",
       "      <td>59.6</td>\n",
       "      <td>0.7888</td>\n",
       "      <td>NaN</td>\n",
       "      <td>NaN</td>\n",
       "    </tr>\n",
       "  </tbody>\n",
       "</table>\n",
       "</div>"
      ],
      "text/plain": [
       "        Date      Time  CO(GT)  PT08.S1(CO)  NMHC(GT)  C6H6(GT)  \\\n",
       "0  3/10/2004  18:00:00     2.6       1360.0     150.0      11.9   \n",
       "1  3/10/2004  19:00:00     2.0       1292.0     112.0       9.4   \n",
       "2  3/10/2004  20:00:00     2.2       1402.0      88.0       9.0   \n",
       "3  3/10/2004  21:00:00     2.2       1376.0      80.0       9.2   \n",
       "4  3/10/2004  22:00:00     1.6       1272.0      51.0       6.5   \n",
       "\n",
       "   PT08.S2(NMHC)  NOx(GT)  PT08.S3(NOx)  NO2(GT)  PT08.S4(NO2)  PT08.S5(O3)  \\\n",
       "0         1046.0    166.0        1056.0    113.0        1692.0       1268.0   \n",
       "1          955.0    103.0        1174.0     92.0        1559.0        972.0   \n",
       "2          939.0    131.0        1140.0    114.0        1555.0       1074.0   \n",
       "3          948.0    172.0        1092.0    122.0        1584.0       1203.0   \n",
       "4          836.0    131.0        1205.0    116.0        1490.0       1110.0   \n",
       "\n",
       "      T    RH      AH  Unnamed: 15  Unnamed: 16  \n",
       "0  13.6  48.9  0.7578          NaN          NaN  \n",
       "1  13.3  47.7  0.7255          NaN          NaN  \n",
       "2  11.9  54.0  0.7502          NaN          NaN  \n",
       "3  11.0  60.0  0.7867          NaN          NaN  \n",
       "4  11.2  59.6  0.7888          NaN          NaN  "
      ]
     },
     "execution_count": 3,
     "metadata": {},
     "output_type": "execute_result"
    }
   ],
   "source": [
    "calidad_aire.head()"
   ]
  },
  {
   "cell_type": "code",
   "execution_count": 4,
   "id": "af95f368-e604-49b5-a05a-47b3b5e47e74",
   "metadata": {},
   "outputs": [
    {
     "name": "stdout",
     "output_type": "stream",
     "text": [
      "<class 'pandas.core.frame.DataFrame'>\n",
      "RangeIndex: 9471 entries, 0 to 9470\n",
      "Data columns (total 17 columns):\n",
      " #   Column         Non-Null Count  Dtype  \n",
      "---  ------         --------------  -----  \n",
      " 0   Date           9357 non-null   object \n",
      " 1   Time           9357 non-null   object \n",
      " 2   CO(GT)         9357 non-null   float64\n",
      " 3   PT08.S1(CO)    9357 non-null   float64\n",
      " 4   NMHC(GT)       9357 non-null   float64\n",
      " 5   C6H6(GT)       9357 non-null   float64\n",
      " 6   PT08.S2(NMHC)  9357 non-null   float64\n",
      " 7   NOx(GT)        9357 non-null   float64\n",
      " 8   PT08.S3(NOx)   9357 non-null   float64\n",
      " 9   NO2(GT)        9357 non-null   float64\n",
      " 10  PT08.S4(NO2)   9357 non-null   float64\n",
      " 11  PT08.S5(O3)    9357 non-null   float64\n",
      " 12  T              9357 non-null   float64\n",
      " 13  RH             9357 non-null   float64\n",
      " 14  AH             9357 non-null   float64\n",
      " 15  Unnamed: 15    0 non-null      float64\n",
      " 16  Unnamed: 16    0 non-null      float64\n",
      "dtypes: float64(15), object(2)\n",
      "memory usage: 1.2+ MB\n"
     ]
    }
   ],
   "source": [
    "calidad_aire.info()"
   ]
  },
  {
   "cell_type": "markdown",
   "id": "00f0a0b1-133b-440e-a2a8-adf954fa70a7",
   "metadata": {},
   "source": [
    "Información de los Datos:\n",
    "\n",
    "<ol>\n",
    "    <li>Date (DD/MM/YYYY)</li>\n",
    "    <li>Time (HH.MM.SS)</li>\n",
    "    <li>True hourly averaged concentration CO in mg/m^3 (reference analyzer)</li>\n",
    "    <li>PT08.S1 (tin oxide) hourly averaged sensor response (nominally CO targeted)</li>\n",
    "    <li>True hourly averaged overall Non Metanic HydroCarbons concentration in microg/m^3 (reference analyzer)</li>\n",
    "    <li>True hourly averaged Benzene concentration in microg/m^3 (reference analyzer)</li>\n",
    "    <li>PT08.S2 (titania) hourly averaged sensor response (nominally NMHC targeted)</li>\n",
    "    <li>True hourly averaged NOx concentration in ppb (reference analyzer)</li>\n",
    "    <li>PT08.S3 (tungsten oxide) hourly averaged sensor response (nominally NOx targeted)</li>\n",
    "    <li>True hourly averaged NO2 concentration in microg/m^3 (reference analyzer)</li>\n",
    "    <li>PT08.S4 (tungsten oxide) hourly averaged sensor response (nominally NO2 targeted)</li>\n",
    "    <li>PT08.S5 (indium oxide) hourly averaged sensor response (nominally O3 targeted)</li>\n",
    "    <li>Temperature in Â°C</li>\n",
    "    <li>Relative Humidity (%)</li>\n",
    "    <li>AH Absolute Humidity</li>\n",
    "</ol>\n"
   ]
  },
  {
   "cell_type": "markdown",
   "id": "d7c82cd8-643d-4699-80ad-89e47086d579",
   "metadata": {},
   "source": [
    "En primera instancia se puede notar que las últimas 2 columnas no tienen ningún dato por lo que se deben de eliminar. Ahora se procederá con la eliminación de datos nulos."
   ]
  },
  {
   "cell_type": "code",
   "execution_count": 5,
   "id": "c1a561b1-0a20-469f-9fc9-f7d16c29c6ea",
   "metadata": {},
   "outputs": [],
   "source": [
    "calidad_aire_preprocesado = calidad_aire.drop(['Unnamed: 15', 'Unnamed: 16'], axis=1)"
   ]
  },
  {
   "cell_type": "code",
   "execution_count": 6,
   "id": "987d2b78-8dba-4b15-97d4-86a44283110c",
   "metadata": {},
   "outputs": [],
   "source": [
    "del calidad_aire"
   ]
  },
  {
   "cell_type": "code",
   "execution_count": 7,
   "id": "9955eac9-a26d-4cac-b64e-87fe57faf60a",
   "metadata": {},
   "outputs": [
    {
     "data": {
      "text/plain": [
       "Date             114\n",
       "Time             114\n",
       "CO(GT)           114\n",
       "PT08.S1(CO)      114\n",
       "NMHC(GT)         114\n",
       "C6H6(GT)         114\n",
       "PT08.S2(NMHC)    114\n",
       "NOx(GT)          114\n",
       "PT08.S3(NOx)     114\n",
       "NO2(GT)          114\n",
       "PT08.S4(NO2)     114\n",
       "PT08.S5(O3)      114\n",
       "T                114\n",
       "RH               114\n",
       "AH               114\n",
       "dtype: int64"
      ]
     },
     "execution_count": 7,
     "metadata": {},
     "output_type": "execute_result"
    }
   ],
   "source": [
    "calidad_aire_preprocesado.isnull().sum()"
   ]
  },
  {
   "cell_type": "code",
   "execution_count": 8,
   "id": "57b9c05b-51d5-47ae-8e02-974a69cbd67c",
   "metadata": {},
   "outputs": [],
   "source": [
    "calidad_aire_preprocesado.dropna(inplace=True)"
   ]
  },
  {
   "cell_type": "code",
   "execution_count": 9,
   "id": "1b423d7a-fb83-4fda-b1c7-e780627583b3",
   "metadata": {},
   "outputs": [
    {
     "name": "stdout",
     "output_type": "stream",
     "text": [
      "<class 'pandas.core.frame.DataFrame'>\n",
      "Index: 9357 entries, 0 to 9356\n",
      "Data columns (total 15 columns):\n",
      " #   Column         Non-Null Count  Dtype  \n",
      "---  ------         --------------  -----  \n",
      " 0   Date           9357 non-null   object \n",
      " 1   Time           9357 non-null   object \n",
      " 2   CO(GT)         9357 non-null   float64\n",
      " 3   PT08.S1(CO)    9357 non-null   float64\n",
      " 4   NMHC(GT)       9357 non-null   float64\n",
      " 5   C6H6(GT)       9357 non-null   float64\n",
      " 6   PT08.S2(NMHC)  9357 non-null   float64\n",
      " 7   NOx(GT)        9357 non-null   float64\n",
      " 8   PT08.S3(NOx)   9357 non-null   float64\n",
      " 9   NO2(GT)        9357 non-null   float64\n",
      " 10  PT08.S4(NO2)   9357 non-null   float64\n",
      " 11  PT08.S5(O3)    9357 non-null   float64\n",
      " 12  T              9357 non-null   float64\n",
      " 13  RH             9357 non-null   float64\n",
      " 14  AH             9357 non-null   float64\n",
      "dtypes: float64(13), object(2)\n",
      "memory usage: 1.1+ MB\n"
     ]
    }
   ],
   "source": [
    "calidad_aire_preprocesado.info()"
   ]
  },
  {
   "cell_type": "code",
   "execution_count": 10,
   "id": "10e1651c-b946-4b73-81fd-c66d65f2df84",
   "metadata": {},
   "outputs": [
    {
     "data": {
      "text/plain": [
       "Date             False\n",
       "Time             False\n",
       "CO(GT)           False\n",
       "PT08.S1(CO)      False\n",
       "NMHC(GT)         False\n",
       "C6H6(GT)         False\n",
       "PT08.S2(NMHC)    False\n",
       "NOx(GT)          False\n",
       "PT08.S3(NOx)     False\n",
       "NO2(GT)          False\n",
       "PT08.S4(NO2)     False\n",
       "PT08.S5(O3)      False\n",
       "T                 True\n",
       "RH               False\n",
       "AH               False\n",
       "dtype: bool"
      ]
     },
     "execution_count": 10,
     "metadata": {},
     "output_type": "execute_result"
    }
   ],
   "source": [
    "(calidad_aire_preprocesado == 0).any()"
   ]
  },
  {
   "cell_type": "markdown",
   "id": "c7210846-4969-4adb-a907-028ebf603ce1",
   "metadata": {},
   "source": [
    "La única característica con valores de 0 es la de temperatura (T), pero en este caso es un valor permitido y no fuera de lo común."
   ]
  },
  {
   "cell_type": "code",
   "execution_count": 55,
   "id": "c7b90e9f-86db-4832-95b3-46382d82e77c",
   "metadata": {},
   "outputs": [
    {
     "data": {
      "text/html": [
       "<div>\n",
       "<style scoped>\n",
       "    .dataframe tbody tr th:only-of-type {\n",
       "        vertical-align: middle;\n",
       "    }\n",
       "\n",
       "    .dataframe tbody tr th {\n",
       "        vertical-align: top;\n",
       "    }\n",
       "\n",
       "    .dataframe thead th {\n",
       "        text-align: right;\n",
       "    }\n",
       "</style>\n",
       "<table border=\"1\" class=\"dataframe\">\n",
       "  <thead>\n",
       "    <tr style=\"text-align: right;\">\n",
       "      <th></th>\n",
       "      <th>Date</th>\n",
       "      <th>Time</th>\n",
       "      <th>CO(GT)</th>\n",
       "      <th>PT08.S1(CO)</th>\n",
       "      <th>C6H6(GT)</th>\n",
       "      <th>NOx(GT)</th>\n",
       "      <th>PT08.S3(NOx)</th>\n",
       "      <th>NO2(GT)</th>\n",
       "      <th>PT08.S4(NO2)</th>\n",
       "      <th>PT08.S5(O3)</th>\n",
       "      <th>T</th>\n",
       "      <th>RH</th>\n",
       "      <th>AH</th>\n",
       "    </tr>\n",
       "  </thead>\n",
       "  <tbody>\n",
       "    <tr>\n",
       "      <th>count</th>\n",
       "      <td>7344</td>\n",
       "      <td>7344</td>\n",
       "      <td>7344.000000</td>\n",
       "      <td>7344.000000</td>\n",
       "      <td>7344.000000</td>\n",
       "      <td>7344.000000</td>\n",
       "      <td>7344.000000</td>\n",
       "      <td>7344.000000</td>\n",
       "      <td>7344.000000</td>\n",
       "      <td>7344.000000</td>\n",
       "      <td>7344.000000</td>\n",
       "      <td>7344.000000</td>\n",
       "      <td>7344.000000</td>\n",
       "    </tr>\n",
       "    <tr>\n",
       "      <th>unique</th>\n",
       "      <td>347</td>\n",
       "      <td>24</td>\n",
       "      <td>NaN</td>\n",
       "      <td>NaN</td>\n",
       "      <td>NaN</td>\n",
       "      <td>NaN</td>\n",
       "      <td>NaN</td>\n",
       "      <td>NaN</td>\n",
       "      <td>NaN</td>\n",
       "      <td>NaN</td>\n",
       "      <td>NaN</td>\n",
       "      <td>NaN</td>\n",
       "      <td>NaN</td>\n",
       "    </tr>\n",
       "    <tr>\n",
       "      <th>top</th>\n",
       "      <td>2/22/2005</td>\n",
       "      <td>20:00:00</td>\n",
       "      <td>NaN</td>\n",
       "      <td>NaN</td>\n",
       "      <td>NaN</td>\n",
       "      <td>NaN</td>\n",
       "      <td>NaN</td>\n",
       "      <td>NaN</td>\n",
       "      <td>NaN</td>\n",
       "      <td>NaN</td>\n",
       "      <td>NaN</td>\n",
       "      <td>NaN</td>\n",
       "      <td>NaN</td>\n",
       "    </tr>\n",
       "    <tr>\n",
       "      <th>freq</th>\n",
       "      <td>24</td>\n",
       "      <td>317</td>\n",
       "      <td>NaN</td>\n",
       "      <td>NaN</td>\n",
       "      <td>NaN</td>\n",
       "      <td>NaN</td>\n",
       "      <td>NaN</td>\n",
       "      <td>NaN</td>\n",
       "      <td>NaN</td>\n",
       "      <td>NaN</td>\n",
       "      <td>NaN</td>\n",
       "      <td>NaN</td>\n",
       "      <td>NaN</td>\n",
       "    </tr>\n",
       "    <tr>\n",
       "      <th>mean</th>\n",
       "      <td>NaN</td>\n",
       "      <td>NaN</td>\n",
       "      <td>2.129711</td>\n",
       "      <td>1110.580746</td>\n",
       "      <td>10.275735</td>\n",
       "      <td>250.625432</td>\n",
       "      <td>826.920071</td>\n",
       "      <td>113.874082</td>\n",
       "      <td>1444.752723</td>\n",
       "      <td>1043.512936</td>\n",
       "      <td>17.770425</td>\n",
       "      <td>49.060076</td>\n",
       "      <td>0.989453</td>\n",
       "    </tr>\n",
       "    <tr>\n",
       "      <th>std</th>\n",
       "      <td>NaN</td>\n",
       "      <td>NaN</td>\n",
       "      <td>1.436472</td>\n",
       "      <td>218.681331</td>\n",
       "      <td>7.441068</td>\n",
       "      <td>202.818370</td>\n",
       "      <td>256.648430</td>\n",
       "      <td>46.153867</td>\n",
       "      <td>350.344170</td>\n",
       "      <td>405.569613</td>\n",
       "      <td>8.862688</td>\n",
       "      <td>17.451563</td>\n",
       "      <td>0.399889</td>\n",
       "    </tr>\n",
       "    <tr>\n",
       "      <th>min</th>\n",
       "      <td>NaN</td>\n",
       "      <td>NaN</td>\n",
       "      <td>0.100000</td>\n",
       "      <td>647.000000</td>\n",
       "      <td>0.200000</td>\n",
       "      <td>2.000000</td>\n",
       "      <td>322.000000</td>\n",
       "      <td>2.000000</td>\n",
       "      <td>551.000000</td>\n",
       "      <td>221.000000</td>\n",
       "      <td>-1.900000</td>\n",
       "      <td>9.200000</td>\n",
       "      <td>0.184700</td>\n",
       "    </tr>\n",
       "    <tr>\n",
       "      <th>25%</th>\n",
       "      <td>NaN</td>\n",
       "      <td>NaN</td>\n",
       "      <td>1.100000</td>\n",
       "      <td>946.000000</td>\n",
       "      <td>4.600000</td>\n",
       "      <td>107.000000</td>\n",
       "      <td>649.000000</td>\n",
       "      <td>81.000000</td>\n",
       "      <td>1203.000000</td>\n",
       "      <td>744.750000</td>\n",
       "      <td>11.200000</td>\n",
       "      <td>35.400000</td>\n",
       "      <td>0.698100</td>\n",
       "    </tr>\n",
       "    <tr>\n",
       "      <th>50%</th>\n",
       "      <td>NaN</td>\n",
       "      <td>NaN</td>\n",
       "      <td>1.800000</td>\n",
       "      <td>1075.000000</td>\n",
       "      <td>8.500000</td>\n",
       "      <td>198.000000</td>\n",
       "      <td>795.000000</td>\n",
       "      <td>113.000000</td>\n",
       "      <td>1447.000000</td>\n",
       "      <td>990.000000</td>\n",
       "      <td>16.900000</td>\n",
       "      <td>49.300000</td>\n",
       "      <td>0.959700</td>\n",
       "    </tr>\n",
       "    <tr>\n",
       "      <th>75%</th>\n",
       "      <td>NaN</td>\n",
       "      <td>NaN</td>\n",
       "      <td>2.800000</td>\n",
       "      <td>1246.000000</td>\n",
       "      <td>14.300000</td>\n",
       "      <td>320.000000</td>\n",
       "      <td>960.000000</td>\n",
       "      <td>139.000000</td>\n",
       "      <td>1673.000000</td>\n",
       "      <td>1305.000000</td>\n",
       "      <td>23.800000</td>\n",
       "      <td>62.500000</td>\n",
       "      <td>1.258600</td>\n",
       "    </tr>\n",
       "    <tr>\n",
       "      <th>max</th>\n",
       "      <td>NaN</td>\n",
       "      <td>NaN</td>\n",
       "      <td>11.900000</td>\n",
       "      <td>2040.000000</td>\n",
       "      <td>63.700000</td>\n",
       "      <td>1479.000000</td>\n",
       "      <td>2683.000000</td>\n",
       "      <td>333.000000</td>\n",
       "      <td>2775.000000</td>\n",
       "      <td>2523.000000</td>\n",
       "      <td>44.600000</td>\n",
       "      <td>88.700000</td>\n",
       "      <td>2.180600</td>\n",
       "    </tr>\n",
       "  </tbody>\n",
       "</table>\n",
       "</div>"
      ],
      "text/plain": [
       "             Date      Time       CO(GT)  PT08.S1(CO)     C6H6(GT)  \\\n",
       "count        7344      7344  7344.000000  7344.000000  7344.000000   \n",
       "unique        347        24          NaN          NaN          NaN   \n",
       "top     2/22/2005  20:00:00          NaN          NaN          NaN   \n",
       "freq           24       317          NaN          NaN          NaN   \n",
       "mean          NaN       NaN     2.129711  1110.580746    10.275735   \n",
       "std           NaN       NaN     1.436472   218.681331     7.441068   \n",
       "min           NaN       NaN     0.100000   647.000000     0.200000   \n",
       "25%           NaN       NaN     1.100000   946.000000     4.600000   \n",
       "50%           NaN       NaN     1.800000  1075.000000     8.500000   \n",
       "75%           NaN       NaN     2.800000  1246.000000    14.300000   \n",
       "max           NaN       NaN    11.900000  2040.000000    63.700000   \n",
       "\n",
       "            NOx(GT)  PT08.S3(NOx)      NO2(GT)  PT08.S4(NO2)  PT08.S5(O3)  \\\n",
       "count   7344.000000   7344.000000  7344.000000   7344.000000  7344.000000   \n",
       "unique          NaN           NaN          NaN           NaN          NaN   \n",
       "top             NaN           NaN          NaN           NaN          NaN   \n",
       "freq            NaN           NaN          NaN           NaN          NaN   \n",
       "mean     250.625432    826.920071   113.874082   1444.752723  1043.512936   \n",
       "std      202.818370    256.648430    46.153867    350.344170   405.569613   \n",
       "min        2.000000    322.000000     2.000000    551.000000   221.000000   \n",
       "25%      107.000000    649.000000    81.000000   1203.000000   744.750000   \n",
       "50%      198.000000    795.000000   113.000000   1447.000000   990.000000   \n",
       "75%      320.000000    960.000000   139.000000   1673.000000  1305.000000   \n",
       "max     1479.000000   2683.000000   333.000000   2775.000000  2523.000000   \n",
       "\n",
       "                  T           RH           AH  \n",
       "count   7344.000000  7344.000000  7344.000000  \n",
       "unique          NaN          NaN          NaN  \n",
       "top             NaN          NaN          NaN  \n",
       "freq            NaN          NaN          NaN  \n",
       "mean      17.770425    49.060076     0.989453  \n",
       "std        8.862688    17.451563     0.399889  \n",
       "min       -1.900000     9.200000     0.184700  \n",
       "25%       11.200000    35.400000     0.698100  \n",
       "50%       16.900000    49.300000     0.959700  \n",
       "75%       23.800000    62.500000     1.258600  \n",
       "max       44.600000    88.700000     2.180600  "
      ]
     },
     "execution_count": 55,
     "metadata": {},
     "output_type": "execute_result"
    }
   ],
   "source": [
    "calidad_aire_preprocesado.describe(include='all')"
   ]
  },
  {
   "cell_type": "markdown",
   "id": "d02ea14b-3366-4dad-a775-5d0b36f03101",
   "metadata": {},
   "source": [
    "Se puede ver que todas las columnas tienen un valor mínimo de -200, y el hecho de que estas unidades no deberían ser negativas en ningún caso, se podría asumir que es un error del sensor o un código nulo, se debe examinar cómo se propaga este valor en el set de datos. Se calcula la cantidad de instancias en la que esto ocurre por cada columna"
   ]
  },
  {
   "cell_type": "code",
   "execution_count": 13,
   "id": "b083bd13-7bae-45b5-9c7a-99f4767ad163",
   "metadata": {},
   "outputs": [
    {
     "name": "stdout",
     "output_type": "stream",
     "text": [
      "Date: 0\n",
      "Time: 0\n",
      "CO(GT): 1683\n",
      "PT08.S1(CO): 366\n",
      "NMHC(GT): 8443\n",
      "C6H6(GT): 366\n",
      "PT08.S2(NMHC): 366\n",
      "NOx(GT): 1639\n",
      "PT08.S3(NOx): 366\n",
      "NO2(GT): 1642\n",
      "PT08.S4(NO2): 366\n",
      "PT08.S5(O3): 366\n",
      "T: 366\n",
      "RH: 366\n",
      "AH: 366\n"
     ]
    }
   ],
   "source": [
    "for column in calidad_aire_preprocesado.columns:\n",
    "    print(f'{column}: {calidad_aire_preprocesado.loc[calidad_aire_preprocesado[column] == -200, column].count()}')"
   ]
  },
  {
   "cell_type": "markdown",
   "id": "9715401e-3ec6-4ac5-ae95-ee3abc16f248",
   "metadata": {},
   "source": [
    "En primer lugar se nota que la columna \"NMHC(GT)\" tiene una gran cantidad de instancias con este valor, por lo que es un feature que no va a generar gran utilidad para el modelo. \n",
    "\n",
    "En segundo lugar, se puede ver que el target feature \"CO(GT)\" tiene 1683 instancias con este valor, lo cual indica que se deben eliminar estas ya que no van a servir porque se necesitan esos datos para analizar el desempeño del modelo.\n",
    "\n",
    "En tercer lugar, se nota que hay 9 features con 366 instancias que contienen este valor, esto indica que probablemente sean las mismas instancias a las que se refieren, por lo que habría que eliminarlas ya que son instancias con muy pocos datos, y no representan gran tamaño con respecto a todo el set de datos. Pero para no \"suponer\" que las 366 intancias son todas las mismas, se procede a probar esto posterior a eliminar las intancias que no contienen valor para el target feature, porque es posible que entre ellas estén las 366 de que no tienen valor para las demás columnas"
   ]
  },
  {
   "cell_type": "code",
   "execution_count": 14,
   "id": "68e7bce0-aeac-4562-b4ee-f3afed28aaa9",
   "metadata": {},
   "outputs": [],
   "source": [
    "calidad_aire_preprocesado.drop(\"NMHC(GT)\", axis=1,inplace=True)"
   ]
  },
  {
   "cell_type": "code",
   "execution_count": 30,
   "id": "1a272e8d-24b6-44e8-8118-4925b4eca431",
   "metadata": {},
   "outputs": [],
   "source": [
    "condition = calidad_aire_preprocesado[['CO(GT)']].eq(null_code).all(axis=1)"
   ]
  },
  {
   "cell_type": "code",
   "execution_count": 31,
   "id": "2275ebd6-49b6-4ade-a69f-2d3654313834",
   "metadata": {},
   "outputs": [],
   "source": [
    "calidad_aire_preprocesado = calidad_aire_preprocesado[~condition]\n",
    "del condition"
   ]
  },
  {
   "cell_type": "code",
   "execution_count": 15,
   "id": "cb94c2bb-537f-4b12-932f-865e58776af0",
   "metadata": {},
   "outputs": [
    {
     "name": "stdout",
     "output_type": "stream",
     "text": [
      "Las columnas comparten la misma fila con el valor -200: True\n"
     ]
    }
   ],
   "source": [
    "null_code = -200\n",
    "\n",
    "null_masks = {}\n",
    "for col in ['PT08.S1(CO)', 'C6H6(GT)', 'PT08.S2(NMHC)', 'PT08.S3(NOx)', 'PT08.S4(NO2)', 'PT08.S5(O3)', 'T', 'RH', 'AH']:\n",
    "    null_masks[col] = calidad_aire_preprocesado[col] == null_code\n",
    "\n",
    "all_same = all(null_masks[list(null_masks.keys())[0]].equals(mask) \n",
    "               for mask in null_masks.values())\n",
    "\n",
    "print(f\"Las columnas comparten la misma fila con el valor -200: {all_same}\")"
   ]
  },
  {
   "cell_type": "code",
   "execution_count": 16,
   "id": "4ee61606-31a0-47f3-97d7-5a9238c40605",
   "metadata": {},
   "outputs": [],
   "source": [
    "condition = calidad_aire_preprocesado[['PT08.S2(NMHC)']].eq(null_code).all(axis=1)"
   ]
  },
  {
   "cell_type": "code",
   "execution_count": 17,
   "id": "5f4ea7f3-656a-41c6-95ab-ab8c1e8bcdd6",
   "metadata": {},
   "outputs": [],
   "source": [
    "calidad_aire_preprocesado = calidad_aire_preprocesado[~condition]\n",
    "del condition"
   ]
  },
  {
   "cell_type": "code",
   "execution_count": 45,
   "id": "c900baf6-0a37-486b-a67a-d2a2f79136e1",
   "metadata": {},
   "outputs": [
    {
     "name": "stdout",
     "output_type": "stream",
     "text": [
      "Date: 0\n",
      "Time: 0\n",
      "CO(GT): 0\n",
      "PT08.S1(CO): 0\n",
      "C6H6(GT): 0\n",
      "PT08.S2(NMHC): 0\n",
      "NOx(GT): 0\n",
      "PT08.S3(NOx): 0\n",
      "NO2(GT): 0\n",
      "PT08.S4(NO2): 0\n",
      "PT08.S5(O3): 0\n",
      "T: 0\n",
      "RH: 0\n",
      "AH: 0\n"
     ]
    }
   ],
   "source": [
    "for column in calidad_aire_preprocesado.columns:\n",
    "    print(f'{column}: {calidad_aire_preprocesado.loc[calidad_aire_preprocesado[column] == -200, column].count()}')"
   ]
  },
  {
   "cell_type": "markdown",
   "id": "4909567a-e1f6-46f1-ba7f-842a8139f4df",
   "metadata": {},
   "source": [
    "Ahora únicamente las columnas \"NOx(GT)\" y \"NO2(GT)\" tienen ese valor de -200 en 403 y 400 instancias, respectivamente. Como esta cantidad representa alrededor de un 5% de la cantidad de datos, se puede imputar el valor de la media en para esos casos sin arriesgar un sesgo significante en los datos."
   ]
  },
  {
   "cell_type": "code",
   "execution_count": 41,
   "id": "a1e05830-1fd3-46d7-82d4-e93140d78b2e",
   "metadata": {},
   "outputs": [],
   "source": [
    "mean_nox = calidad_aire_preprocesado.loc[calidad_aire_preprocesado['NOx(GT)'] != -200, 'NOx(GT)'].mean()\n",
    "mean_no2 = calidad_aire_preprocesado.loc[calidad_aire_preprocesado['NO2(GT)'] != -200, 'NO2(GT)'].mean()"
   ]
  },
  {
   "cell_type": "code",
   "execution_count": 43,
   "id": "e1e475b6-61aa-4677-91df-b9f555382d26",
   "metadata": {},
   "outputs": [
    {
     "name": "stderr",
     "output_type": "stream",
     "text": [
      "/var/folders/tq/mb390y9j4rggkdnpr7vpvhhr0000gn/T/ipykernel_45741/4108417746.py:1: SettingWithCopyWarning: \n",
      "A value is trying to be set on a copy of a slice from a DataFrame.\n",
      "Try using .loc[row_indexer,col_indexer] = value instead\n",
      "\n",
      "See the caveats in the documentation: https://pandas.pydata.org/pandas-docs/stable/user_guide/indexing.html#returning-a-view-versus-a-copy\n",
      "  calidad_aire_preprocesado['NOx(GT)'] = calidad_aire_preprocesado['NOx(GT)'].replace(-200, mean_nox)\n",
      "/var/folders/tq/mb390y9j4rggkdnpr7vpvhhr0000gn/T/ipykernel_45741/4108417746.py:2: SettingWithCopyWarning: \n",
      "A value is trying to be set on a copy of a slice from a DataFrame.\n",
      "Try using .loc[row_indexer,col_indexer] = value instead\n",
      "\n",
      "See the caveats in the documentation: https://pandas.pydata.org/pandas-docs/stable/user_guide/indexing.html#returning-a-view-versus-a-copy\n",
      "  calidad_aire_preprocesado['NO2(GT)'] = calidad_aire_preprocesado['NO2(GT)'].replace(-200, mean_no2)\n"
     ]
    }
   ],
   "source": [
    "calidad_aire_preprocesado.loc[:, 'NOx(GT)'] = calidad_aire_preprocesado['NOx(GT)'].replace(-200, mean_nox)\n",
    "calidad_aire_preprocesado.loc[:, 'NO2(GT)'] = calidad_aire_preprocesado['NO2(GT)'].replace(-200, mean_no2)"
   ]
  },
  {
   "cell_type": "markdown",
   "id": "465c4c0a-e62b-4096-b62d-5dccb98d07a8",
   "metadata": {},
   "source": [
    "Ahora se procede a visualizar la distribución de los datos numéricos del conjunto de datos."
   ]
  },
  {
   "cell_type": "code",
   "execution_count": 22,
   "id": "a1609242-482e-4e54-b817-55b569cfeb5d",
   "metadata": {},
   "outputs": [],
   "source": [
    "import seaborn as sns"
   ]
  },
  {
   "cell_type": "code",
   "execution_count": 52,
   "id": "23e37d7d-0cbf-405b-a726-2f4bdfda0f3e",
   "metadata": {},
   "outputs": [],
   "source": [
    "calidad_aire_num = calidad_aire_preprocesado.select_dtypes(include=[np.number])"
   ]
  },
  {
   "cell_type": "code",
   "execution_count": 53,
   "id": "8f045e82-8b02-4dde-919e-d88a7da8c7b7",
   "metadata": {},
   "outputs": [
    {
     "data": {
      "image/png": "[encoded data removed]",
      "text/plain": [
       "<Figure size 800x800 with 2 Axes>"
      ]
     },
     "metadata": {},
     "output_type": "display_data"
    }
   ],
   "source": [
    "plt.figure(figsize=(8,8))\n",
    "sns.heatmap(calidad_aire_num.corr(), annot=True, annot_kws={\"size\": 8}, center=0)\n",
    "plt.title(\"Matriz de correlación\")\n",
    "plt.show()"
   ]
  },
  {
   "cell_type": "markdown",
   "id": "bb98b272-955d-4dcf-b293-b2ec64ff512c",
   "metadata": {},
   "source": [
    "Se puede notar que existe una correlación muy fuerte de 0.98 entre los features \"PT08.S2(NMHC)\" y \"C6H6(GT)\", lo cual agrega redundancia a los datos y se podría eliminar para una mejor eficiencia y uso de los recursos."
   ]
  },
  {
   "cell_type": "code",
   "execution_count": 50,
   "id": "26025c38-fb97-460a-a474-3f57fda874e7",
   "metadata": {},
   "outputs": [],
   "source": [
    "calidad_aire_preprocesado.drop('PT08.S2(NMHC)', axis=1, inplace=True)"
   ]
  },
  {
   "cell_type": "code",
   "execution_count": 56,
   "id": "5dbf9c6b-3823-4d10-8c9e-7627eb1d7389",
   "metadata": {},
   "outputs": [
    {
     "data": {
      "text/plain": [
       "array([[<Axes: title={'center': 'CO(GT)'}>,\n",
       "        <Axes: title={'center': 'PT08.S1(CO)'}>,\n",
       "        <Axes: title={'center': 'C6H6(GT)'}>],\n",
       "       [<Axes: title={'center': 'NOx(GT)'}>,\n",
       "        <Axes: title={'center': 'PT08.S3(NOx)'}>,\n",
       "        <Axes: title={'center': 'NO2(GT)'}>],\n",
       "       [<Axes: title={'center': 'PT08.S4(NO2)'}>,\n",
       "        <Axes: title={'center': 'PT08.S5(O3)'}>,\n",
       "        <Axes: title={'center': 'T'}>],\n",
       "       [<Axes: title={'center': 'RH'}>, <Axes: title={'center': 'AH'}>,\n",
       "        <Axes: >]], dtype=object)"
      ]
     },
     "execution_count": 56,
     "metadata": {},
     "output_type": "execute_result"
    },
    {
     "data": {
      "image/png": "[encoded data removed]",
      "text/plain": [
       "<Figure size 1200x1000 with 12 Axes>"
      ]
     },
     "metadata": {},
     "output_type": "display_data"
    }
   ],
   "source": [
    "calidad_aire_preprocesado.hist(bins=25, figsize=(12, 10))"
   ]
  },
  {
   "cell_type": "code",
   "execution_count": 58,
   "id": "308d0010-3d86-4f7c-bb4f-79ee5313ffaf",
   "metadata": {},
   "outputs": [
    {
     "data": {
      "image/png": "[encoded data removed]",
      "text/plain": [
       "<Figure size 1200x600 with 1 Axes>"
      ]
     },
     "metadata": {},
     "output_type": "display_data"
    }
   ],
   "source": [
    "plt.figure(figsize=(12,6))\n",
    "sns.boxplot(calidad_aire_num)\n",
    "plt.title(\"Distribución de datos numéricos\", fontsize=10)\n",
    "plt.xticks(fontsize=8)\n",
    "plt.show()"
   ]
  },
  {
   "cell_type": "markdown",
   "id": "85666981-6a74-462d-ad04-1f6a7d30e8c4",
   "metadata": {
    "jp-MarkdownHeadingCollapsed": true
   },
   "source": [
    "## Moda"
   ]
  },
  {
   "cell_type": "code",
   "execution_count": 3,
   "id": "5de56bb3-1129-4453-bea1-4c78db1f8876",
   "metadata": {},
   "outputs": [],
   "source": [
    "moda = pd.read_csv('Moda/Train.csv')"
   ]
  },
  {
   "cell_type": "code",
   "execution_count": 4,
   "id": "3db576ae-e220-4483-b1ff-5ebe680b83f7",
   "metadata": {},
   "outputs": [
    {
     "data": {
      "text/html": [
       "<div>\n",
       "<style scoped>\n",
       "    .dataframe tbody tr th:only-of-type {\n",
       "        vertical-align: middle;\n",
       "    }\n",
       "\n",
       "    .dataframe tbody tr th {\n",
       "        vertical-align: top;\n",
       "    }\n",
       "\n",
       "    .dataframe thead th {\n",
       "        text-align: right;\n",
       "    }\n",
       "</style>\n",
       "<table border=\"1\" class=\"dataframe\">\n",
       "  <thead>\n",
       "    <tr style=\"text-align: right;\">\n",
       "      <th></th>\n",
       "      <th>label</th>\n",
       "      <th>pixel1</th>\n",
       "      <th>pixel2</th>\n",
       "      <th>pixel3</th>\n",
       "      <th>pixel4</th>\n",
       "      <th>pixel5</th>\n",
       "      <th>pixel6</th>\n",
       "      <th>pixel7</th>\n",
       "      <th>pixel8</th>\n",
       "      <th>pixel9</th>\n",
       "      <th>...</th>\n",
       "      <th>pixel775</th>\n",
       "      <th>pixel776</th>\n",
       "      <th>pixel777</th>\n",
       "      <th>pixel778</th>\n",
       "      <th>pixel779</th>\n",
       "      <th>pixel780</th>\n",
       "      <th>pixel781</th>\n",
       "      <th>pixel782</th>\n",
       "      <th>pixel783</th>\n",
       "      <th>pixel784</th>\n",
       "    </tr>\n",
       "  </thead>\n",
       "  <tbody>\n",
       "    <tr>\n",
       "      <th>0</th>\n",
       "      <td>2</td>\n",
       "      <td>0</td>\n",
       "      <td>0</td>\n",
       "      <td>0</td>\n",
       "      <td>0</td>\n",
       "      <td>0</td>\n",
       "      <td>0</td>\n",
       "      <td>0</td>\n",
       "      <td>0</td>\n",
       "      <td>0</td>\n",
       "      <td>...</td>\n",
       "      <td>0</td>\n",
       "      <td>0</td>\n",
       "      <td>0</td>\n",
       "      <td>0</td>\n",
       "      <td>0</td>\n",
       "      <td>0</td>\n",
       "      <td>0</td>\n",
       "      <td>0</td>\n",
       "      <td>0</td>\n",
       "      <td>0</td>\n",
       "    </tr>\n",
       "    <tr>\n",
       "      <th>1</th>\n",
       "      <td>9</td>\n",
       "      <td>0</td>\n",
       "      <td>0</td>\n",
       "      <td>0</td>\n",
       "      <td>0</td>\n",
       "      <td>0</td>\n",
       "      <td>0</td>\n",
       "      <td>0</td>\n",
       "      <td>0</td>\n",
       "      <td>0</td>\n",
       "      <td>...</td>\n",
       "      <td>0</td>\n",
       "      <td>0</td>\n",
       "      <td>0</td>\n",
       "      <td>0</td>\n",
       "      <td>0</td>\n",
       "      <td>0</td>\n",
       "      <td>0</td>\n",
       "      <td>0</td>\n",
       "      <td>0</td>\n",
       "      <td>0</td>\n",
       "    </tr>\n",
       "    <tr>\n",
       "      <th>2</th>\n",
       "      <td>6</td>\n",
       "      <td>0</td>\n",
       "      <td>0</td>\n",
       "      <td>0</td>\n",
       "      <td>0</td>\n",
       "      <td>0</td>\n",
       "      <td>0</td>\n",
       "      <td>0</td>\n",
       "      <td>5</td>\n",
       "      <td>0</td>\n",
       "      <td>...</td>\n",
       "      <td>0</td>\n",
       "      <td>0</td>\n",
       "      <td>0</td>\n",
       "      <td>30</td>\n",
       "      <td>43</td>\n",
       "      <td>0</td>\n",
       "      <td>0</td>\n",
       "      <td>0</td>\n",
       "      <td>0</td>\n",
       "      <td>0</td>\n",
       "    </tr>\n",
       "    <tr>\n",
       "      <th>3</th>\n",
       "      <td>0</td>\n",
       "      <td>0</td>\n",
       "      <td>0</td>\n",
       "      <td>0</td>\n",
       "      <td>1</td>\n",
       "      <td>2</td>\n",
       "      <td>0</td>\n",
       "      <td>0</td>\n",
       "      <td>0</td>\n",
       "      <td>0</td>\n",
       "      <td>...</td>\n",
       "      <td>3</td>\n",
       "      <td>0</td>\n",
       "      <td>0</td>\n",
       "      <td>0</td>\n",
       "      <td>0</td>\n",
       "      <td>1</td>\n",
       "      <td>0</td>\n",
       "      <td>0</td>\n",
       "      <td>0</td>\n",
       "      <td>0</td>\n",
       "    </tr>\n",
       "    <tr>\n",
       "      <th>4</th>\n",
       "      <td>3</td>\n",
       "      <td>0</td>\n",
       "      <td>0</td>\n",
       "      <td>0</td>\n",
       "      <td>0</td>\n",
       "      <td>0</td>\n",
       "      <td>0</td>\n",
       "      <td>0</td>\n",
       "      <td>0</td>\n",
       "      <td>0</td>\n",
       "      <td>...</td>\n",
       "      <td>0</td>\n",
       "      <td>0</td>\n",
       "      <td>0</td>\n",
       "      <td>0</td>\n",
       "      <td>0</td>\n",
       "      <td>0</td>\n",
       "      <td>0</td>\n",
       "      <td>0</td>\n",
       "      <td>0</td>\n",
       "      <td>0</td>\n",
       "    </tr>\n",
       "  </tbody>\n",
       "</table>\n",
       "<p>5 rows × 785 columns</p>\n",
       "</div>"
      ],
      "text/plain": [
       "   label  pixel1  pixel2  pixel3  pixel4  pixel5  pixel6  pixel7  pixel8  \\\n",
       "0      2       0       0       0       0       0       0       0       0   \n",
       "1      9       0       0       0       0       0       0       0       0   \n",
       "2      6       0       0       0       0       0       0       0       5   \n",
       "3      0       0       0       0       1       2       0       0       0   \n",
       "4      3       0       0       0       0       0       0       0       0   \n",
       "\n",
       "   pixel9  ...  pixel775  pixel776  pixel777  pixel778  pixel779  pixel780  \\\n",
       "0       0  ...         0         0         0         0         0         0   \n",
       "1       0  ...         0         0         0         0         0         0   \n",
       "2       0  ...         0         0         0        30        43         0   \n",
       "3       0  ...         3         0         0         0         0         1   \n",
       "4       0  ...         0         0         0         0         0         0   \n",
       "\n",
       "   pixel781  pixel782  pixel783  pixel784  \n",
       "0         0         0         0         0  \n",
       "1         0         0         0         0  \n",
       "2         0         0         0         0  \n",
       "3         0         0         0         0  \n",
       "4         0         0         0         0  \n",
       "\n",
       "[5 rows x 785 columns]"
      ]
     },
     "execution_count": 4,
     "metadata": {},
     "output_type": "execute_result"
    }
   ],
   "source": [
    "moda.head()"
   ]
  },
  {
   "cell_type": "code",
   "execution_count": 14,
   "id": "54e95615-9f1b-4b3a-a7ed-409e42aea7fb",
   "metadata": {},
   "outputs": [],
   "source": [
    "moda_labels = moda.label\n",
    "moda.drop(\"label\", axis=1, inplace=True)"
   ]
  },
  {
   "cell_type": "code",
   "execution_count": 18,
   "id": "732bbdf7-439e-4d24-9051-0925234c476b",
   "metadata": {},
   "outputs": [],
   "source": [
    "def plot_digit(image_data):\n",
    "    image = image_data.reshape(28, 28)\n",
    "    plt.figure(figsize=(4,4))\n",
    "    plt.imshow(image, cmap=\"binary\")\n",
    "    plt.axis(\"off\")"
   ]
  },
  {
   "cell_type": "code",
   "execution_count": 46,
   "id": "a508dbe6-1998-43c0-983a-03847bad29ee",
   "metadata": {},
   "outputs": [
    {
     "data": {
      "image/png": "[encoded data removed]",
      "text/plain": [
       "<Figure size 400x400 with 1 Axes>"
      ]
     },
     "metadata": {},
     "output_type": "display_data"
    }
   ],
   "source": [
    "some_digit = moda.iloc[0].values\n",
    "plot_digit(some_digit)\n",
    "plt.show()"
   ]
  },
  {
   "cell_type": "markdown",
   "id": "2febb27a-fa76-4bc9-b518-c4a40e2b18b7",
   "metadata": {},
   "source": [
    "Se puede notar que en todas las imagenes existen pixeles en blanco en las orillas que no aportan información. Se procede a recortar las imágenes donde el tamaño será de la imagen más larga."
   ]
  },
  {
   "cell_type": "markdown",
   "id": "757994d1-c2f7-4ee4-a20b-a7f04f85b737",
   "metadata": {},
   "source": [
    "## Ingresos Anuales"
   ]
  },
  {
   "cell_type": "code",
   "execution_count": 52,
   "id": "f091832b-ccb6-4451-9b95-d9c33e7d89bc",
   "metadata": {},
   "outputs": [],
   "source": [
    "ingresos = pd.read_excel('IngresosPromedioAnual.xlsx')"
   ]
  },
  {
   "cell_type": "code",
   "execution_count": 53,
   "id": "95a02575-78d5-4eac-bafc-8b9cbe5cc7d1",
   "metadata": {},
   "outputs": [
    {
     "data": {
      "text/html": [
       "<div>\n",
       "<style scoped>\n",
       "    .dataframe tbody tr th:only-of-type {\n",
       "        vertical-align: middle;\n",
       "    }\n",
       "\n",
       "    .dataframe tbody tr th {\n",
       "        vertical-align: top;\n",
       "    }\n",
       "\n",
       "    .dataframe thead th {\n",
       "        text-align: right;\n",
       "    }\n",
       "</style>\n",
       "<table border=\"1\" class=\"dataframe\">\n",
       "  <thead>\n",
       "    <tr style=\"text-align: right;\">\n",
       "      <th></th>\n",
       "      <th>age</th>\n",
       "      <th>workclass</th>\n",
       "      <th>fnlwgt</th>\n",
       "      <th>education</th>\n",
       "      <th>education.num</th>\n",
       "      <th>marital.status</th>\n",
       "      <th>occupation</th>\n",
       "      <th>relationship</th>\n",
       "      <th>race</th>\n",
       "      <th>sex</th>\n",
       "      <th>capital.gain</th>\n",
       "      <th>capital.loss</th>\n",
       "      <th>hours.per.week</th>\n",
       "      <th>native.country</th>\n",
       "      <th>income</th>\n",
       "    </tr>\n",
       "  </thead>\n",
       "  <tbody>\n",
       "    <tr>\n",
       "      <th>0</th>\n",
       "      <td>90</td>\n",
       "      <td>?</td>\n",
       "      <td>77053</td>\n",
       "      <td>HS-grad</td>\n",
       "      <td>9</td>\n",
       "      <td>Widowed</td>\n",
       "      <td>?</td>\n",
       "      <td>Not-in-family</td>\n",
       "      <td>White</td>\n",
       "      <td>Female</td>\n",
       "      <td>0</td>\n",
       "      <td>4356</td>\n",
       "      <td>40</td>\n",
       "      <td>United-States</td>\n",
       "      <td>&lt;=50K</td>\n",
       "    </tr>\n",
       "    <tr>\n",
       "      <th>1</th>\n",
       "      <td>82</td>\n",
       "      <td>Private</td>\n",
       "      <td>132870</td>\n",
       "      <td>HS-grad</td>\n",
       "      <td>9</td>\n",
       "      <td>Widowed</td>\n",
       "      <td>Exec-managerial</td>\n",
       "      <td>Not-in-family</td>\n",
       "      <td>White</td>\n",
       "      <td>Female</td>\n",
       "      <td>0</td>\n",
       "      <td>4356</td>\n",
       "      <td>18</td>\n",
       "      <td>United-States</td>\n",
       "      <td>&lt;=50K</td>\n",
       "    </tr>\n",
       "    <tr>\n",
       "      <th>2</th>\n",
       "      <td>66</td>\n",
       "      <td>?</td>\n",
       "      <td>186061</td>\n",
       "      <td>Some-college</td>\n",
       "      <td>10</td>\n",
       "      <td>Widowed</td>\n",
       "      <td>?</td>\n",
       "      <td>Unmarried</td>\n",
       "      <td>Black</td>\n",
       "      <td>Female</td>\n",
       "      <td>0</td>\n",
       "      <td>4356</td>\n",
       "      <td>40</td>\n",
       "      <td>United-States</td>\n",
       "      <td>&lt;=50K</td>\n",
       "    </tr>\n",
       "    <tr>\n",
       "      <th>3</th>\n",
       "      <td>54</td>\n",
       "      <td>Private</td>\n",
       "      <td>140359</td>\n",
       "      <td>7th-8th</td>\n",
       "      <td>4</td>\n",
       "      <td>Divorced</td>\n",
       "      <td>Machine-op-inspct</td>\n",
       "      <td>Unmarried</td>\n",
       "      <td>White</td>\n",
       "      <td>Female</td>\n",
       "      <td>0</td>\n",
       "      <td>3900</td>\n",
       "      <td>40</td>\n",
       "      <td>United-States</td>\n",
       "      <td>&lt;=50K</td>\n",
       "    </tr>\n",
       "    <tr>\n",
       "      <th>4</th>\n",
       "      <td>41</td>\n",
       "      <td>Private</td>\n",
       "      <td>264663</td>\n",
       "      <td>Some-college</td>\n",
       "      <td>10</td>\n",
       "      <td>Separated</td>\n",
       "      <td>Prof-specialty</td>\n",
       "      <td>Own-child</td>\n",
       "      <td>White</td>\n",
       "      <td>Female</td>\n",
       "      <td>0</td>\n",
       "      <td>3900</td>\n",
       "      <td>40</td>\n",
       "      <td>United-States</td>\n",
       "      <td>&lt;=50K</td>\n",
       "    </tr>\n",
       "  </tbody>\n",
       "</table>\n",
       "</div>"
      ],
      "text/plain": [
       "   age workclass  fnlwgt     education  education.num marital.status  \\\n",
       "0   90         ?   77053       HS-grad              9        Widowed   \n",
       "1   82   Private  132870       HS-grad              9        Widowed   \n",
       "2   66         ?  186061  Some-college             10        Widowed   \n",
       "3   54   Private  140359       7th-8th              4       Divorced   \n",
       "4   41   Private  264663  Some-college             10      Separated   \n",
       "\n",
       "          occupation   relationship   race     sex  capital.gain  \\\n",
       "0                  ?  Not-in-family  White  Female             0   \n",
       "1    Exec-managerial  Not-in-family  White  Female             0   \n",
       "2                  ?      Unmarried  Black  Female             0   \n",
       "3  Machine-op-inspct      Unmarried  White  Female             0   \n",
       "4     Prof-specialty      Own-child  White  Female             0   \n",
       "\n",
       "   capital.loss  hours.per.week native.country income  \n",
       "0          4356              40  United-States  <=50K  \n",
       "1          4356              18  United-States  <=50K  \n",
       "2          4356              40  United-States  <=50K  \n",
       "3          3900              40  United-States  <=50K  \n",
       "4          3900              40  United-States  <=50K  "
      ]
     },
     "execution_count": 53,
     "metadata": {},
     "output_type": "execute_result"
    }
   ],
   "source": [
    "ingresos.head()"
   ]
  },
  {
   "cell_type": "code",
   "execution_count": 54,
   "id": "afb45a92-0340-40b6-a47c-5a22eb8ab841",
   "metadata": {},
   "outputs": [
    {
     "name": "stdout",
     "output_type": "stream",
     "text": [
      "<class 'pandas.core.frame.DataFrame'>\n",
      "RangeIndex: 32561 entries, 0 to 32560\n",
      "Data columns (total 15 columns):\n",
      " #   Column          Non-Null Count  Dtype \n",
      "---  ------          --------------  ----- \n",
      " 0   age             32561 non-null  int64 \n",
      " 1   workclass       32561 non-null  object\n",
      " 2   fnlwgt          32561 non-null  int64 \n",
      " 3   education       32561 non-null  object\n",
      " 4   education.num   32561 non-null  int64 \n",
      " 5   marital.status  32561 non-null  object\n",
      " 6   occupation      32561 non-null  object\n",
      " 7   relationship    32561 non-null  object\n",
      " 8   race            32561 non-null  object\n",
      " 9   sex             32561 non-null  object\n",
      " 10  capital.gain    32561 non-null  int64 \n",
      " 11  capital.loss    32561 non-null  int64 \n",
      " 12  hours.per.week  32561 non-null  int64 \n",
      " 13  native.country  32561 non-null  object\n",
      " 14  income          32561 non-null  object\n",
      "dtypes: int64(6), object(9)\n",
      "memory usage: 3.7+ MB\n"
     ]
    }
   ],
   "source": [
    "ingresos.info()"
   ]
  },
  {
   "cell_type": "code",
   "execution_count": 74,
   "id": "e9bce3cd-7aaf-469e-bc0c-1869c4a1aafb",
   "metadata": {},
   "outputs": [
    {
     "data": {
      "text/plain": [
       "array(['<=50K', '>50K'], dtype=object)"
      ]
     },
     "execution_count": 74,
     "metadata": {},
     "output_type": "execute_result"
    }
   ],
   "source": [
    "ingresos['income'].unique()"
   ]
  },
  {
   "cell_type": "code",
   "execution_count": 72,
   "id": "33d32e32-afcd-4611-be84-904b6852a121",
   "metadata": {},
   "outputs": [],
   "source": [
    "ingresos.drop('education', axis=1, inplace=True)"
   ]
  },
  {
   "cell_type": "code",
   "execution_count": null,
   "id": "423cb5b3-2378-483a-9681-9ec34c5c7930",
   "metadata": {},
   "outputs": [],
   "source": []
  }
 ],
 "metadata": {
  "kernelspec": {
   "display_name": "Python 3 (ipykernel)",
   "language": "python",
   "name": "python3"
  },
  "language_info": {
   "codemirror_mode": {
    "name": "ipython",
    "version": 3
   },
   "file_extension": ".py",
   "mimetype": "text/x-python",
   "name": "python",
   "nbconvert_exporter": "python",
   "pygments_lexer": "ipython3",
   "version": "3.11.13"
  }
 },
 "nbformat": 4,
 "nbformat_minor": 5
}

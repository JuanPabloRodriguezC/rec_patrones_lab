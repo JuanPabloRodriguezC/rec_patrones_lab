{
 "cells": [
  {
   "cell_type": "markdown",
   "id": "110d33a2-6f90-4a96-97e3-aacc2198eb49",
   "metadata": {},
   "source": [
    "# Laboratorio 2"
   ]
  },
  {
   "cell_type": "code",
   "execution_count": 9,
   "id": "ca7df976-f65d-4182-92ed-85760e975af3",
   "metadata": {},
   "outputs": [],
   "source": [
    "import sklearn.datasets as datasets\n",
    "from sklearn.model_selection import train_test_split\n",
    "from sklearn.neighbors import KNeighborsClassifier\n",
    "from sklearn.metrics import precision_score\n",
    "import pandas as pd\n",
    "from matplotlib import pyplot as plt\n",
    "import numpy as np\n",
    "import time"
   ]
  },
  {
   "cell_type": "markdown",
   "id": "688b480d-d72c-4956-8ace-17d1d7e16929",
   "metadata": {},
   "source": [
    "## Teoría\n",
    "1. **Indique cuál es costo de “Training” y de test del algoritmo KNN.**\n",
    "\n",
    "Para KNN no existe un \"Training\" como tal ya que todas las comparaciones se hacen en el momento de predecir. Pero se podría argumentar que el costo de training es el almacenamiento de todas las instancias de entrenamiento en memoria principal, lo cual es una desventaja de este algoritmo ya que se limita el tamaño del modelo.\n",
    "\n",
    "2. **Explique porqué se dice que instance learning es un algoritmo por fuerza bruta o perezoso.**\n",
    "\n",
    "Se dice que instance learning es un algoritmo por fuerza bruta ya que para cada instancia que se quiera predecir, se deben realizar todas las computaciones necesarias con todo el set de entrenamiento. De esta manera, el modelo no guarda parámetros que aprenda a través de iteraciones si no que cada instancia tendrá su respectivo resultado determinado por los cálculos y este va a permanecer el mismo siempre.\n",
    "\n",
    "3. **Indique cuantas comparaciones se deben realizar en la etapa de testeo (asumiendo el peor de los casos).**\n",
    "\n",
    "Para cada instancia en el set de test se debe primero calcular la distancia con cada una de las instancias de \"entrenamiento\". Esto sería nxm cálculos. Luego se debe hacer un ordenamiento de estos, en el peor de los casos se hacen $n^2$ comparaciones.\n",
    "\n",
    "4. **Investigue alguna modificación que se ha realizado al algoritmo original del KNN.**\n",
    "\n",
    "Una modificación interesante que resuelve o mitiga el problema de hacer muchos cálculos cuando existen muchos datos es el de Locality Sensitive Hashing (LSH). Básicamente se asignan hiperplanos a una cantidad de datos, y a la hora de hacer el cálculo de predicción, se realizan los cálculos de distancia solamente con estos hiperplanos, y los vecinos más cercanos son aquellas instancias que estén dentro del hiperplano elegido. Cada instancia de entrenamiento está relacionada a un hiperplano a través de un hash."
   ]
  },
  {
   "cell_type": "markdown",
   "id": "b2a49428-82e2-4dad-8384-ef33e44a1c1a",
   "metadata": {},
   "source": [
    "## Realizando un clasificador de múltiples clases"
   ]
  },
  {
   "cell_type": "markdown",
   "id": "e41f7e19-c1c3-40d1-a177-d76920a67863",
   "metadata": {},
   "source": [
    "### Distancia entre elementos"
   ]
  },
  {
   "cell_type": "markdown",
   "id": "e76cae98-dc14-4324-b12f-6d4720696ee1",
   "metadata": {},
   "source": [
    "1. **Se debe de implementar un criterio de cómo elegir la clase de una muestra tomando en cuenta los k vecinos más cercanos. En el código se muestra el método “Uniforme”(la mayoría de elementos de una misma clase es la que gana). La idea es que se implemente otro método tomando en cuenta la distancia entre los elementos (distinto a $l_1$ y $l_2$). Este código debe implementarse dentro del método “predict” (en el if de distance). En el PDF se debe explicar en un diagrama en qué consiste el algoritmo implementado. Es importante destacar que la métrica puede ser inventada por cada grupo}**"
   ]
  },
  {
   "cell_type": "markdown",
   "id": "71749878-19ac-4b98-b680-70ad468374ad",
   "metadata": {},
   "source": [
    "Para este problema se decidió utilizar la distancia de cosenos que utiliza la relación del producto punto entre 2 vectores. Se tiene que el ángulo entre 2 vectores es: \n",
    "$$ \n",
    "cos(\\theta) = \\frac {A \\dot B}{\\parallel A \\parallel \\parallel B \\parallel}\n",
    "$$\n",
    "\n",
    "\n",
    "Con esto se puede obtener qué tan similar es la dirección para 2 vectores, y este va a ser el criterio para escoger a los vecinos más cercanos.\n",
    "Para el caso de KNN, cada punto representará un vector desde el origen. Como se puede notar, este método toma en cuenta únicamente la dirección, sin importar la distancia. Esto puede ser útil para sets de datos donde las clases son separables en un ángulo desde un punto en común, si este punto no es el origen, el set de datos se podría trasladar alrededor de este punto.\n",
    "\n",
    "Además, se decidió utilizar un ponderado exponencial, donde cada métrica de similitud se multiplica por una constante y la exponencial de este producto será el peso para el ponderado de cada vecino. Entonces entre más se aleje una instancia del punto en términos de dirección, su peso tendrá un valor exponencialmente menor.\n",
    "\n"
   ]
  },
  {
   "cell_type": "code",
   "execution_count": 6,
   "id": "e391237a-707a-4fbd-a57f-9f0b19c9edb1",
   "metadata": {},
   "outputs": [],
   "source": [
    "class KNearestNeighbors():\n",
    "    def __init__(self, X_train, y_train, n_neighbors=5, weights='uniform', alpha=0.1):\n",
    "\n",
    "        self.X_train = X_train\n",
    "        self.y_train = y_train\n",
    "\n",
    "        self.n_neighbors = n_neighbors\n",
    "        self.weights = weights\n",
    "        self.alpha = alpha #parametro para ponderado exponencial\n",
    "\n",
    "        self.n_classes = 3\n",
    "\n",
    "    def euclidian_distance(self, a, b):\n",
    "        return np.sqrt(np.sum((a - b)**2, axis=1))\n",
    "\n",
    "    def cosine_distance(self, a, b):\n",
    "        a_norm = a / (np.linalg.norm(a) + 1e-8)\n",
    "        b_norm = b / (np.linalg.norm(b, axis=1, keepdims=True) + 1e-8)\n",
    "        return 1 - np.sum(a_norm * b_norm, axis=1)\n",
    "\n",
    "    def kneighbors(self, X_test, return_distance=False):\n",
    "\n",
    "        dist = []\n",
    "        neigh_ind = []\n",
    "\n",
    "#         print(X_test, self.X_train. X_test, self.X_train)\n",
    "        point_dist = []\n",
    "        for x_test in X_test:\n",
    "            point_dist += [ self.euclidian_distance(x_test, self.X_train) ]\n",
    "\n",
    "        for row in point_dist:\n",
    "            enum_neigh = enumerate(row)\n",
    "            sorted_neigh = sorted(enum_neigh,\n",
    "                                  key=lambda x: x[1])[:self.n_neighbors]\n",
    "\n",
    "            ind_list = [tup[0] for tup in sorted_neigh]\n",
    "            dist_list = [tup[1] for tup in sorted_neigh]\n",
    "\n",
    "            dist.append(dist_list)\n",
    "            neigh_ind.append(ind_list)\n",
    "\n",
    "        if return_distance:\n",
    "            return np.array(dist), np.array(neigh_ind)\n",
    "\n",
    "        return np.array(neigh_ind)\n",
    "\n",
    "    def predict(self, X_test):\n",
    "\n",
    "        if self.weights == 'uniform':\n",
    "            neighbors = self.kneighbors(X_test)\n",
    "            y_pred = np.array([\n",
    "                np.argmax(np.bincount(self.y_train[neighbor]))\n",
    "                for neighbor in neighbors\n",
    "            ])\n",
    "            #print(\"Y_pred: \", y_pred)\n",
    "            return y_pred\n",
    "\n",
    "        if self.weights == 'distance':\n",
    "\n",
    "            dist, neigh_ind = self.kneighbors(X_test, return_distance=True)\n",
    "\n",
    "            exp_weights = np.exp(-self.alpha * dist)\n",
    "\n",
    "            normalized_weights = exp_weights / np.sum(exp_weights, axis=1)[:, np.newaxis]\n",
    "\n",
    "            proba = []\n",
    "\n",
    "            for i, row in enumerate(normalized_weights):\n",
    "\n",
    "                row_pred = self.y_train[neigh_ind[i]]\n",
    "\n",
    "                for k in range(self.n_classes):\n",
    "                    indices = np.where(row_pred == k)\n",
    "                    prob_ind = np.sum(row[indices])\n",
    "                    proba.append(np.array(prob_ind))\n",
    "\n",
    "            predict_proba = np.array(proba).reshape(X_test.shape[0],\n",
    "                                                    self.n_classes)\n",
    "\n",
    "            y_pred = np.array([np.argmax(item) for item in predict_proba])\n",
    "\n",
    "            return y_pred\n",
    "\n",
    "    def score(self, X_test, y_test):\n",
    "        y_pred = self.predict(X_test)\n",
    "        return float(sum(y_pred == y_test)) / float(len(y_test)), y_pred, y_test\n",
    "\n",
    "    def precision(self, y_test, y_pred):\n",
    "        return\n"
   ]
  },
  {
   "cell_type": "markdown",
   "id": "c386f9c6-dc37-4261-9e70-f9dcc676ef02",
   "metadata": {},
   "source": [
    "2. **Pruebe el algoritmo del punto anterior con k=2,3,4,5,6,7,9,11. Anote la precisión y el tiempo que se obtuvo para cada k. Además, compare los resultados obtenidos de su implementación con los de la biblioteca sklearn.**"
   ]
  },
  {
   "cell_type": "code",
   "execution_count": 7,
   "id": "5b280ed2-361f-4add-a80c-3cbcacf52317",
   "metadata": {},
   "outputs": [],
   "source": [
    "dataset = datasets.load_iris(as_frame=True)\n",
    "\n",
    "X = dataset.data\n",
    "y = dataset.target"
   ]
  },
  {
   "cell_type": "code",
   "execution_count": 10,
   "id": "bad96c1c-1f8e-4fae-9913-cb8bf52f4f45",
   "metadata": {},
   "outputs": [
    {
     "name": "stdout",
     "output_type": "stream",
     "text": [
      "[1 0 2 0 0 2 0 2 1 0 1 1 1 0 2 2 1 0 1 2] [1 0 2 0 0 2 0 2 1 0 1 1 1 0 2 2 1 0 1 2]\n",
      "Tiempo de predicción de modelo propio: 0.005424022674560547 segundos --- Precisión: 0.9555555555555556\n",
      "Tiempo de predicción de modelo de Scikit Learn: 0.011399269104003906 segundos--- Precisión: 0.9333333333333333\n"
     ]
    },
    {
     "data": {
      "text/html": [
       "<div>\n",
       "<style scoped>\n",
       "    .dataframe tbody tr th:only-of-type {\n",
       "        vertical-align: middle;\n",
       "    }\n",
       "\n",
       "    .dataframe tbody tr th {\n",
       "        vertical-align: top;\n",
       "    }\n",
       "\n",
       "    .dataframe thead th {\n",
       "        text-align: right;\n",
       "    }\n",
       "</style>\n",
       "<table border=\"1\" class=\"dataframe\">\n",
       "  <thead>\n",
       "    <tr style=\"text-align: right;\">\n",
       "      <th></th>\n",
       "      <th>Our Implementation</th>\n",
       "      <th>Sklearn's Implementation</th>\n",
       "    </tr>\n",
       "  </thead>\n",
       "  <tbody>\n",
       "    <tr>\n",
       "      <th>Accuracy</th>\n",
       "      <td>0.955556</td>\n",
       "      <td>0.933333</td>\n",
       "    </tr>\n",
       "  </tbody>\n",
       "</table>\n",
       "</div>"
      ],
      "text/plain": [
       "          Our Implementation  Sklearn's Implementation\n",
       "Accuracy            0.955556                  0.933333"
      ]
     },
     "execution_count": 10,
     "metadata": {},
     "output_type": "execute_result"
    }
   ],
   "source": [
    "if isinstance(X, pd.DataFrame):\n",
    "    X = X.to_numpy()\n",
    "    y = y.to_numpy()\n",
    "\n",
    "X_train, X_test, y_train, y_test = train_test_split(\\\n",
    "                X, y, test_size=0.3,stratify=y, random_state=45)\n",
    "\n",
    "\n",
    "\n",
    "our_classifier = KNearestNeighbors(X_train, y_train, n_neighbors=7, weights=\"distance\")\n",
    "sklearn_classifier = KNeighborsClassifier(n_neighbors=8).fit(X_train, y_train)\n",
    "\n",
    "tiempo_inicio_oc = time.time()\n",
    "our_accuracy, y_pred, y_test = our_classifier.score(X_test, y_test)\n",
    "tiempo_fin_oc = time.time()\n",
    "\n",
    "tiempo_inicio_sklearn = time.time()\n",
    "y_pred_sklearn = sklearn_classifier.predict(X_test)\n",
    "sklearn_accuracy = sklearn_classifier.score(X_test, y_test)\n",
    "tiempo_fin_sklearn = time.time()\n",
    "\n",
    "#preicision\n",
    "precision_oc = precision_score(y_test, y_pred, average=\"micro\")\n",
    "precision_sklearn = precision_score(y_test, y_pred_sklearn, average=\"micro\")\n",
    "\n",
    "print(y_pred[:20], y_test[:20])\n",
    "print(f'Tiempo de predicción de modelo propio: {tiempo_fin_oc - tiempo_inicio_oc} segundos --- Precisión: {precision_oc}')\n",
    "print(f'Tiempo de predicción de modelo de Scikit Learn: {tiempo_fin_sklearn - tiempo_inicio_sklearn} segundos--- Precisión: {precision_sklearn}')\n",
    "\n",
    "pd.DataFrame([[our_accuracy, sklearn_accuracy]],\n",
    "             ['Accuracy'],    \n",
    "             ['Our Implementation', 'Sklearn\\'s Implementation'])"
   ]
  },
  {
   "cell_type": "markdown",
   "id": "a69e9126-a460-4168-953e-11c70fb7dde8",
   "metadata": {},
   "source": [
    "3. **Realice una gráfica de k vr accuracy, de tal manera que le permita discutir los resultados obtenidos.**"
   ]
  },
  {
   "cell_type": "code",
   "execution_count": 11,
   "id": "2e91fa6f-4c7b-4c48-be35-5005a61cb6fa",
   "metadata": {},
   "outputs": [
    {
     "name": "stdout",
     "output_type": "stream",
     "text": [
      "k=2, accuracy=0.9333\n",
      "k=3, accuracy=0.9111\n",
      "k=4, accuracy=0.9111\n",
      "k=5, accuracy=0.9333\n",
      "k=6, accuracy=0.9333\n",
      "k=7, accuracy=0.9556\n",
      "k=8, accuracy=0.9333\n",
      "k=9, accuracy=0.9556\n",
      "k=10, accuracy=0.9333\n",
      "k=11, accuracy=0.9556\n"
     ]
    },
    {
     "data": {
      "image/png": "[encoded data removed]",
      "text/plain": [
       "<Figure size 800x500 with 1 Axes>"
      ]
     },
     "metadata": {},
     "output_type": "display_data"
    },
    {
     "data": {
      "text/plain": [
       "[0.9333333333333333,\n",
       " 0.9111111111111111,\n",
       " 0.9111111111111111,\n",
       " 0.9333333333333333,\n",
       " 0.9333333333333333,\n",
       " 0.9555555555555556,\n",
       " 0.9333333333333333,\n",
       " 0.9555555555555556,\n",
       " 0.9333333333333333,\n",
       " 0.9555555555555556]"
      ]
     },
     "execution_count": 11,
     "metadata": {},
     "output_type": "execute_result"
    }
   ],
   "source": [
    "def evaluate_k_range(k_values=range(2,12), weights=\"distance\"):\n",
    "    \n",
    "    accuracies = []\n",
    "\n",
    "    for k in k_values:\n",
    "        \n",
    "        model = KNearestNeighbors(X_train, y_train, n_neighbors=k, weights=\"distance\")\n",
    "\n",
    "        acc, _, _ = model.score(X_test, y_test)\n",
    "        accuracies.append(acc)\n",
    "        print(f\"k={k}, accuracy={acc:.4f}\")\n",
    "\n",
    "    \n",
    "    plt.figure(figsize=(8,5))\n",
    "    plt.plot(k_values, accuracies, marker='o')\n",
    "    plt.xlabel(\"Número de vecinos (k)\")\n",
    "    plt.ylabel(\"Accuracy\")\n",
    "    plt.title(f\"Accuracy vs k (weights='{weights}')\")\n",
    "    plt.grid(True)\n",
    "    plt.show()\n",
    "\n",
    "    return accuracies\n",
    "evaluate_k_range()"
   ]
  },
  {
   "cell_type": "markdown",
   "id": "7c9bd8d7-6b24-4abe-b08e-2c84e84f5272",
   "metadata": {},
   "source": [
    "### Clasificador de múltiples clases"
   ]
  },
  {
   "cell_type": "markdown",
   "id": "c50730cc-6fc0-41e9-843d-9f2b67728ccb",
   "metadata": {},
   "source": [
    "1. **Cargue el set datos MNIST (dígitos), utilizando la biblioteca sklearn MNIST. En el listing 1 se muestra cómo hacerlo**"
   ]
  },
  {
   "cell_type": "code",
   "execution_count": null,
   "id": "c0f70021-2c35-4cd0-8db6-4b9d43c0b298",
   "metadata": {},
   "outputs": [],
   "source": [
    "#Listing 1\n",
    "from sklearn.datasets import load_digits\n",
    "import matplotlib.pyplot as plt\n",
    "digits = load_digits(n_class=10)"
   ]
  },
  {
   "cell_type": "markdown",
   "id": "68f2db3e-dcba-4d20-a79a-f12802dd7b21",
   "metadata": {},
   "source": [
    "2. **Muestre las primeras 12 imágenes en forma de tabla (3x4). Se debe de observar la imagen del dígito.**"
   ]
  },
  {
   "cell_type": "markdown",
   "id": "a9deef1b-d1b6-44cc-8b02-38d016c74eec",
   "metadata": {},
   "source": [
    "3. **Muestre las dimensiones del set datos (cuántos datos y cuántos features).**"
   ]
  },
  {
   "cell_type": "markdown",
   "id": "dea46b5a-4b33-41d5-86e0-753790d5e744",
   "metadata": {},
   "source": [
    "4. **Separe el set de datos de tal manera que el 75\\% de los datos sea para entrenamiento, mientras que el 25\\% sea para el test.**"
   ]
  },
  {
   "cell_type": "markdown",
   "id": "f183ab10-2a3c-4659-b5fc-225ce3a3301a",
   "metadata": {},
   "source": [
    "5. **Instancie su propia implementación de KNN y pruebe el clasificador (k=2,3,5,7,8,10,11) con el set datos solicitados (note que son 10 clases). Muestre el accuracy con el método normal y con el método de distancia implementado por cada grupo.**"
   ]
  },
  {
   "cell_type": "markdown",
   "id": "6f77885e-b27c-4152-a5ef-bb4e56cc17c2",
   "metadata": {},
   "source": [
    "6. **Instancie el clasificador de sklearn y realice las mismas pruebas que el punto anterior.**"
   ]
  },
  {
   "cell_type": "markdown",
   "id": "0eb69df8-103a-4706-bd15-2a5f82293815",
   "metadata": {},
   "source": [
    "7. **Compare en una tabla la implementación propia del knn con el de la biblioteca sklearn.**"
   ]
  },
  {
   "cell_type": "markdown",
   "id": "bcd6de0c-5cd1-4852-88bf-90551f51b139",
   "metadata": {},
   "source": [
    "8. **Realice 5 imágenes con dígitos escrito a mano. Saque una foto a cada dígito y transforme la imagen a las mismas dimensiones que el set de datos. Pruebe su modelo prediciendo cada una de las fotos tomadas. Reporte la clasificación que brinda el modelo mostrando la imagen original y la clasificación obtenida.**"
   ]
  }
 ],
 "metadata": {
  "kernelspec": {
   "display_name": "Python 3 (ipykernel)",
   "language": "python",
   "name": "python3"
  },
  "language_info": {
   "codemirror_mode": {
    "name": "ipython",
    "version": 3
   },
   "file_extension": ".py",
   "mimetype": "text/x-python",
   "name": "python",
   "nbconvert_exporter": "python",
   "pygments_lexer": "ipython3",
   "version": "3.11.13"
  }
 },
 "nbformat": 4,
 "nbformat_minor": 5
}

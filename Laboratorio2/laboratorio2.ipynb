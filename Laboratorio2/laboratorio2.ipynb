{
 "cells": [
  {
   "cell_type": "markdown",
   "id": "110d33a2-6f90-4a96-97e3-aacc2198eb49",
   "metadata": {},
   "source": [
    "# Laboratorio 2"
   ]
  },
  {
   "cell_type": "markdown",
   "id": "688b480d-d72c-4956-8ace-17d1d7e16929",
   "metadata": {},
   "source": [
    "## Teoría\n",
    "1. **Indique cuál es costo de “Training” y de test del algoritmo KNN.**\n",
    "\n",
    "\n",
    "2. **Explique porqué se dice que instance learning es un algoritmo por fuerza bruta o perezoso.**\n",
    "\n",
    "\n",
    "3. **Indique cuantas comparaciones se deben realizar en la etapa de testeo (asumiendo el peor de los casos).**\n",
    "\n",
    "\n",
    "4. **Investigue alguna modificación que se ha realizado al algoritmo original del KNN.**"
   ]
  },
  {
   "cell_type": "markdown",
   "id": "b2a49428-82e2-4dad-8384-ef33e44a1c1a",
   "metadata": {},
   "source": [
    "## Realizando un clasificador de múltiples clases"
   ]
  },
  {
   "cell_type": "markdown",
   "id": "e41f7e19-c1c3-40d1-a177-d76920a67863",
   "metadata": {},
   "source": [
    "### Distancia entre elementos"
   ]
  },
  {
   "cell_type": "markdown",
   "id": "e76cae98-dc14-4324-b12f-6d4720696ee1",
   "metadata": {},
   "source": [
    "1. **Se debe de implementar un criterio de cómo elegir la clase de una muestra tomando en cuenta los k vecinos más cercanos. En el código se muestra el método “Uniforme”(la mayoría de elementos de una misma clase es la que gana). La idea es que se implemente otro método tomando en cuenta la distancia entre los elementos (distinto a $l_1$ y $l_2$). Este código debe implementarse dentro del método “predict” (en el if de distance). En el PDF se debe explicar un un diagrama en qu´e consiste el algoritmo implementado. Es importante destacar que la métrica puede ser inventada por cada grupo}**"
   ]
  },
  {
   "cell_type": "markdown",
   "id": "c386f9c6-dc37-4261-9e70-f9dcc676ef02",
   "metadata": {},
   "source": [
    "2. **Pruebe el algoritmo del punto anterior con k=2,3,4,5,6,7,9,11. Anote la precisión y el tiempo que se obtuvo para cada k. Además, compare los resultados obtenidos de su implementación con los de la biblioteca sklearn.**"
   ]
  },
  {
   "cell_type": "markdown",
   "id": "a69e9126-a460-4168-953e-11c70fb7dde8",
   "metadata": {},
   "source": [
    "3. **Realice una gráfica de k vr accuracy, de tal manera que le permita discutir los resultados obtenidos.**"
   ]
  },
  {
   "cell_type": "markdown",
   "id": "7c9bd8d7-6b24-4abe-b08e-2c84e84f5272",
   "metadata": {},
   "source": [
    "### Clasificador de múltiples clases"
   ]
  },
  {
   "cell_type": "markdown",
   "id": "c50730cc-6fc0-41e9-843d-9f2b67728ccb",
   "metadata": {},
   "source": [
    "1. **Cargue el set datos MNIST (dígitos), utilizando la biblioteca sklearn MNIST. En el listing 1 se muestra cómo hacerlo**"
   ]
  },
  {
   "cell_type": "code",
   "execution_count": null,
   "id": "c0f70021-2c35-4cd0-8db6-4b9d43c0b298",
   "metadata": {},
   "outputs": [],
   "source": [
    "#Listing 1\n",
    "from sklearn.datasets import load_digits\n",
    "import matplotlib.pyplot as plt\n",
    "digits = load_digits(n_class=10)"
   ]
  },
  {
   "cell_type": "markdown",
   "id": "68f2db3e-dcba-4d20-a79a-f12802dd7b21",
   "metadata": {},
   "source": [
    "2. **Muestre las primeras 12 imágenes en forma de tabla (3x4). Se debe de observar la imagen del dígito.**"
   ]
  },
  {
   "cell_type": "markdown",
   "id": "a9deef1b-d1b6-44cc-8b02-38d016c74eec",
   "metadata": {},
   "source": [
    "3. **Muestre las dimensiones del set datos (cuántos datos y cuántos features).**"
   ]
  },
  {
   "cell_type": "markdown",
   "id": "dea46b5a-4b33-41d5-86e0-753790d5e744",
   "metadata": {},
   "source": [
    "4. **Separe el set de datos de tal manera que el 75\\% de los datos sea para entrenamiento, mientras que el 25\\% sea para el test.**"
   ]
  },
  {
   "cell_type": "markdown",
   "id": "f183ab10-2a3c-4659-b5fc-225ce3a3301a",
   "metadata": {},
   "source": [
    "5. **Instancie su propia implementación de KNN y pruebe el clasificador (k=2,3,5,7,8,10,11) con el set datos solicitados (note que son 10 clases). Muestre el accuracy con el método normal y con el método de distancia implementado por cada grupo.**"
   ]
  },
  {
   "cell_type": "markdown",
   "id": "6f77885e-b27c-4152-a5ef-bb4e56cc17c2",
   "metadata": {},
   "source": [
    "6. **Instancie el clasificador de sklearn y realice las mismas pruebas que el punto anterior.**"
   ]
  },
  {
   "cell_type": "markdown",
   "id": "0eb69df8-103a-4706-bd15-2a5f82293815",
   "metadata": {},
   "source": [
    "7. **Compare en una tabla la implementación propia del knn con el de la biblioteca sklearn.**"
   ]
  },
  {
   "cell_type": "markdown",
   "id": "bcd6de0c-5cd1-4852-88bf-90551f51b139",
   "metadata": {},
   "source": [
    "8. **Realice 5 imágenes con dígitos escrito a mano. Saque una foto a cada dígito y transforme la imagen a las mismas dimensiones que el set de datos. Pruebe su modelo prediciendo cada una de las fotos tomadas. Reporte la clasificación que brinda el modelo mostrando la imagen original y la clasificación obtenida.**"
   ]
  }
 ],
 "metadata": {
  "kernelspec": {
   "display_name": "Python 3 (ipykernel)",
   "language": "python",
   "name": "python3"
  },
  "language_info": {
   "codemirror_mode": {
    "name": "ipython",
    "version": 3
   },
   "file_extension": ".py",
   "mimetype": "text/x-python",
   "name": "python",
   "nbconvert_exporter": "python",
   "pygments_lexer": "ipython3",
   "version": "3.11.13"
  }
 },
 "nbformat": 4,
 "nbformat_minor": 5
}
